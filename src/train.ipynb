{
 "cells": [
  {
   "cell_type": "markdown",
   "metadata": {},
   "source": [
    "# Imports"
   ]
  },
  {
   "cell_type": "code",
   "execution_count": null,
   "metadata": {},
   "outputs": [],
   "source": [
    "import tensorflow as tf\n",
    "import os\n",
    "import json"
   ]
  },
  {
   "cell_type": "code",
   "execution_count": null,
   "metadata": {},
   "outputs": [],
   "source": [
    "tf.__version__"
   ]
  },
  {
   "cell_type": "markdown",
   "metadata": {},
   "source": [
    "# 1. Constants"
   ]
  },
  {
   "source": [
    "## 1.1. Paths"
   ],
   "cell_type": "markdown",
   "metadata": {}
  },
  {
   "cell_type": "code",
   "execution_count": null,
   "metadata": {},
   "outputs": [],
   "source": [
    "DATASET_PATH = \"/run/media/ishrak/Ishrak/IUT/Thesis/dataset/tfrecords/\"\n",
    "TRAIN_DATASET_PATH = os.path.join(DATASET_PATH, \"train\")\n",
    "TEST_DATASET_PATH = os.path.join(DATASET_PATH, \"test\")\n",
    "MODEL_DIR = \"/run/media/ishrak/Ishrak/IUT/Thesis/model_dir\"\n",
    "CKPT_PATH = os.path.join(MODEL_DIR, \"ckpt\")\n",
    "LOG_PATH = os.path.join(MODEL_DIR, \"logs\")\n",
    "LOG_TEXT_PATH = os.path.join(LOG_PATH, \"log.txt\")\n",
    "TENSORBOARD_PATH = os.path.join(LOG_PATH, \"tensorboard_logs\")"
   ]
  },
  {
   "source": [
    "## 1.2. Constant values"
   ],
   "cell_type": "markdown",
   "metadata": {}
  },
  {
   "cell_type": "code",
   "execution_count": null,
   "metadata": {},
   "outputs": [],
   "source": [
    "with open(\"config.json\") as fp:\n",
    "    consts = json.load(fp)\n",
    "    BUFFER_SIZE = consts[\"BUFFER_SIZE\"]\n",
    "    BATCH_SIZE = consts[\"BATCH_SIZE\"]\n",
    "    EPOCHS = consts[\"EPOCHS\"]\n",
    "    NUM_LAYERS = consts[\"NUM_LAYERS\"]\n",
    "    D_MODEL = consts[\"D_MODEL\"]\n",
    "    DFF = consts[\"DFF\"]\n",
    "    NUM_HEADS = consts[\"NUM_HEADS\"]\n",
    "    SUMMARY_LENGTH = consts[\"SUMMARY_LENGTH\"]\n",
    "    TEXT_LENGTH = consts[\"TEXT_LENGTH\"]\n",
    "    START_TOKEN = consts[\"START_TOKEN\"]\n",
    "    END_TOKEN = consts[\"END_TOKEN\"]\n",
    "    VOCAB_SIZE = consts[\"VOCAB_SIZE\"]\n",
    "    ENCODER_VOCAB_SIZE = consts[\"ENCODER_VOCAB_SIZE\"]\n",
    "    DECODER_VOCAB_SIZE = consts[\"DECODER_VOCAB_SIZE\"]\n",
    "    VOCAB_DIM = consts[\"VOCAB_DIM\"]\n",
    "    CKPT_TO_KEEP = consts[\"CKPT_TO_KEEP\"]\n",
    "    del consts"
   ]
  },
  {
   "cell_type": "markdown",
   "metadata": {
    "id": "yH5cg5pSIHaZ"
   },
   "source": [
    "# 2. Loading Dataset\n",
    "The dataset consists of articles scraped from Prothom Alo news site. The dataset contains titles, contents and tags of many article.\n"
   ]
  },
  {
   "cell_type": "code",
   "execution_count": null,
   "metadata": {},
   "outputs": [],
   "source": [
    "train_tfrecord_files = [\n",
    "    os.path.join(TRAIN_DATASET_PATH, file_name)\n",
    "    for file_name in os.listdir(TRAIN_DATASET_PATH)\n",
    "]\n",
    "test_tfrecord_files = [\n",
    "    os.path.join(TEST_DATASET_PATH, file_name)\n",
    "    for file_name in os.listdir(TEST_DATASET_PATH)\n",
    "]"
   ]
  },
  {
   "cell_type": "code",
   "execution_count": null,
   "metadata": {},
   "outputs": [],
   "source": [
    "from data_manipulation.create_tfrecord_dataset import create_tfrecord_dataset"
   ]
  },
  {
   "cell_type": "code",
   "execution_count": null,
   "metadata": {},
   "outputs": [],
   "source": [
    "train_dataset = create_tfrecord_dataset(\n",
    "    tfrecord_files=train_tfrecord_files,\n",
    "    batch_size=BATCH_SIZE,\n",
    "    cache_buffer_size=BUFFER_SIZE,\n",
    "    prefetch_buffer_size=tf.data.experimental.AUTOTUNE,\n",
    "    input_feature_length=TEXT_LENGTH,\n",
    "    output_feature_length=SUMMARY_LENGTH\n",
    ")"
   ]
  },
  {
   "cell_type": "code",
   "execution_count": null,
   "metadata": {},
   "outputs": [],
   "source": [
    "test_dataset = create_tfrecord_dataset(\n",
    "    tfrecord_files=test_tfrecord_files,\n",
    "    batch_size=BATCH_SIZE,\n",
    "    cache_buffer_size=BUFFER_SIZE,\n",
    "    prefetch_buffer_size=tf.data.experimental.AUTOTUNE,\n",
    "    input_feature_length=TEXT_LENGTH,\n",
    "    output_feature_length=SUMMARY_LENGTH\n",
    ")"
   ]
  },
  {
   "cell_type": "markdown",
   "metadata": {
    "id": "xi-jAU3zJE9N"
   },
   "source": [
    "# 2. Model"
   ]
  },
  {
   "source": [
    "## 2.1. Model Architecture"
   ],
   "cell_type": "markdown",
   "metadata": {}
  },
  {
   "cell_type": "code",
   "execution_count": null,
   "metadata": {
    "id": "FXHRG-o4R9Mc"
   },
   "outputs": [],
   "source": [
    "from model.transformer import Transformer\n",
    "transformer = Transformer(\n",
    "    NUM_LAYERS, \n",
    "    D_MODEL, \n",
    "    NUM_HEADS, \n",
    "    DFF,\n",
    "    ENCODER_VOCAB_SIZE, \n",
    "    DECODER_VOCAB_SIZE, \n",
    "    pe_input=ENCODER_VOCAB_SIZE, \n",
    "    pe_target=DECODER_VOCAB_SIZE,\n",
    ")"
   ]
  },
  {
   "cell_type": "markdown",
   "metadata": {
    "id": "uOGvkYDNTjIj"
   },
   "source": [
    "## 2.2. Adam optimizer\n",
    "Used adam optimizer with custom learning rate scheduling."
   ]
  },
  {
   "cell_type": "code",
   "execution_count": null,
   "metadata": {},
   "outputs": [],
   "source": [
    "from training.custom_scheduler import CustomSchedule\n",
    "learning_rate = CustomSchedule(D_MODEL)\n",
    "optimizer = tf.keras.optimizers.Adam(learning_rate, beta_1=0.9, beta_2=0.98, epsilon=1e-9)"
   ]
  },
  {
   "source": [
    "## 2.3. Checkpoints"
   ],
   "cell_type": "markdown",
   "metadata": {}
  },
  {
   "cell_type": "code",
   "execution_count": null,
   "metadata": {},
   "outputs": [],
   "source": [
    "ckpt = tf.train.Checkpoint(transformer=transformer, optimizer=optimizer)\n",
    "\n",
    "ckpt_manager = tf.train.CheckpointManager(ckpt, CKPT_PATH, max_to_keep=CKPT_TO_KEEP)\n",
    "\n",
    "if ckpt_manager.latest_checkpoint:\n",
    "    ckpt.restore(ckpt_manager.latest_checkpoint)\n",
    "    print ('Latest checkpoint restored!!')"
   ]
  },
  {
   "source": [
    "## 2.4. Compiling model"
   ],
   "cell_type": "markdown",
   "metadata": {}
  },
  {
   "cell_type": "code",
   "execution_count": null,
   "metadata": {},
   "outputs": [],
   "source": [
    "transformer.compile(optimizer=optimizer)"
   ]
  },
  {
   "source": [
    "## 2.5. Custom Callback"
   ],
   "cell_type": "markdown",
   "metadata": {}
  },
  {
   "cell_type": "code",
   "execution_count": null,
   "metadata": {},
   "outputs": [],
   "source": [
    "from helpers.logger_callback import LoggerCallback\n",
    "logger_callback = LoggerCallback(\n",
    "    log_dir = TENSORBOARD_PATH,\n",
    "    ckpt_manager = ckpt_manager\n",
    ")"
   ]
  },
  {
   "source": [
    "## 2.5. Training Model"
   ],
   "cell_type": "markdown",
   "metadata": {}
  },
  {
   "cell_type": "code",
   "execution_count": null,
   "metadata": {},
   "outputs": [],
   "source": [
    "transformer.fit(\n",
    "    x = train_dataset,\n",
    "    epochs = EPOCHS,\n",
    "    validation_data = test_dataset,\n",
    "    callbacks = [logger_callback]\n",
    ")"
   ]
  }
 ],
 "metadata": {
  "accelerator": "TPU",
  "colab": {
   "collapsed_sections": [
    "ku8AxkGg0ZE0",
    "XWsD8vO20bwf",
    "VMH_meJWn0-5",
    "9vVLiJrirnpz"
   ],
   "name": "Thesis_Model_01.ipynb",
   "provenance": []
  },
  "kernelspec": {
   "name": "python3",
   "display_name": "Python 3.7.7 64-bit ('venv')",
   "metadata": {
    "interpreter": {
     "hash": "e87d7fff284dd331b486cc185ab07eb33b6108369c45acdc1756567215d546a1"
    }
   }
  },
  "language_info": {
   "codemirror_mode": {
    "name": "ipython",
    "version": 3
   },
   "file_extension": ".py",
   "mimetype": "text/x-python",
   "name": "python",
   "nbconvert_exporter": "python",
   "pygments_lexer": "ipython3",
   "version": "3.7.7-final"
  }
 },
 "nbformat": 4,
 "nbformat_minor": 1
}